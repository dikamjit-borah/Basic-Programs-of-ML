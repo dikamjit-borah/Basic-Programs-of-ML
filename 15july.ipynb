{
 "cells": [
  {
   "cell_type": "code",
   "execution_count": 14,
   "metadata": {},
   "outputs": [
    {
     "name": "stdout",
     "output_type": "stream",
     "text": [
      "[1, 4, 6]\n",
      "[2, 5, 7, 4]\n",
      "[3, 6, 8, 6, 7]\n"
     ]
    }
   ],
   "source": [
    "matrix = [(1,2,3),(4,5,6),[6,7,8]]\n",
    "for i in range(3):\n",
    "    col = []\n",
    "    for x in matrix:\n",
    "        col.append(x[i])\n",
    "    matrix.append(col)\n",
    "    print(col)"
   ]
  },
  {
   "cell_type": "code",
   "execution_count": 15,
   "metadata": {},
   "outputs": [],
   "source": [
    "del col[2]"
   ]
  },
  {
   "cell_type": "code",
   "execution_count": 16,
   "metadata": {},
   "outputs": [
    {
     "name": "stdout",
     "output_type": "stream",
     "text": [
      "[3, 6, 6, 7]\n"
     ]
    }
   ],
   "source": [
    "print (col)"
   ]
  },
  {
   "cell_type": "code",
   "execution_count": 17,
   "metadata": {},
   "outputs": [
    {
     "name": "stdout",
     "output_type": "stream",
     "text": [
      "120\n"
     ]
    }
   ],
   "source": [
    "import sys\n",
    "print(sys.getsizeof(matrix))"
   ]
  },
  {
   "cell_type": "code",
   "execution_count": 21,
   "metadata": {},
   "outputs": [],
   "source": [
    "#dir(sys)  #display operations possible for sys\n",
    "#help(sys)"
   ]
  },
  {
   "cell_type": "code",
   "execution_count": 30,
   "metadata": {},
   "outputs": [
    {
     "data": {
      "text/plain": [
       "list"
      ]
     },
     "execution_count": 30,
     "metadata": {},
     "output_type": "execute_result"
    }
   ],
   "source": [
    "#tuples\n",
    "\n",
    "tuple =([1,2,3,4],[4,2,6,2],[4,2,6,2])\n",
    "type(tuple[1])"
   ]
  },
  {
   "cell_type": "code",
   "execution_count": 31,
   "metadata": {},
   "outputs": [
    {
     "name": "stdout",
     "output_type": "stream",
     "text": [
      "[4, 2, 6, 2] [4, 2, 6, 2] [1, 2, 3, 4]\n"
     ]
    }
   ],
   "source": [
    "x,y,z=tuple    #assssssssings to each??\n",
    "print(z,y,x)"
   ]
  },
  {
   "cell_type": "markdown",
   "metadata": {},
   "source": [
    "sets"
   ]
  },
  {
   "cell_type": "code",
   "execution_count": 33,
   "metadata": {},
   "outputs": [],
   "source": [
    "#set = {}, no dupliczte elements\n",
    "#can perform set operations, UNION, INTERSECTION\n",
    "\n"
   ]
  },
  {
   "cell_type": "code",
   "execution_count": 37,
   "metadata": {},
   "outputs": [
    {
     "name": "stdout",
     "output_type": "stream",
     "text": [
      "<class 'tuple'>\n"
     ]
    },
    {
     "data": {
      "text/plain": [
       "6.888899952173233e-05"
      ]
     },
     "execution_count": 37,
     "metadata": {},
     "output_type": "execute_result"
    }
   ],
   "source": [
    "import timeit\n",
    "timeit.timeit('print(tuple)', number = 1)\n",
    "\n",
    "#check time of execution"
   ]
  },
  {
   "cell_type": "markdown",
   "metadata": {},
   "source": [
    "Dicktonaries - associated arrays with indexing by keys"
   ]
  },
  {
   "cell_type": "code",
   "execution_count": 39,
   "metadata": {},
   "outputs": [
    {
     "data": {
      "text/plain": [
       "{'key': 'value', 'key1': 'value200'}"
      ]
     },
     "execution_count": 39,
     "metadata": {},
     "output_type": "execute_result"
    }
   ],
   "source": [
    "dcit = {'key':'value', 'key1':'value200'}\n",
    "dcit"
   ]
  },
  {
   "cell_type": "code",
   "execution_count": 40,
   "metadata": {},
   "outputs": [
    {
     "name": "stdout",
     "output_type": "stream",
     "text": [
      "{'ss': 'abc', 'sd': 'def'}\n"
     ]
    }
   ],
   "source": [
    "sc2 = dict(ss='abc', sd = 'def')\n",
    "print(sc2)"
   ]
  },
  {
   "cell_type": "code",
   "execution_count": 42,
   "metadata": {},
   "outputs": [
    {
     "data": {
      "text/plain": [
       "'def'"
      ]
     },
     "execution_count": 42,
     "metadata": {},
     "output_type": "execute_result"
    }
   ],
   "source": [
    "sc2['sd']"
   ]
  },
  {
   "cell_type": "code",
   "execution_count": 45,
   "metadata": {},
   "outputs": [
    {
     "name": "stdout",
     "output_type": "stream",
     "text": [
      "0 tic\n",
      "1 tac\n",
      "2 toe\n"
     ]
    }
   ],
   "source": [
    "#ENUMERATE \n",
    "\n",
    "for i,v in enumerate(['tic', 'tac', 'toe']):\n",
    "    print(i,v)"
   ]
  },
  {
   "cell_type": "code",
   "execution_count": 47,
   "metadata": {},
   "outputs": [
    {
     "name": "stdout",
     "output_type": "stream",
     "text": [
      "1 SUN\n",
      "2 MON\n",
      "3 TUE\n",
      "4 WED\n",
      "5 THUR\n",
      "6 FRI\n",
      "7 SAT\n"
     ]
    }
   ],
   "source": [
    "for i,v in enumerate(['SUN', 'MON', 'TUE', 'WED', 'THUR','FRI', 'SAT']):\n",
    "    print(i+1,v)"
   ]
  },
  {
   "cell_type": "code",
   "execution_count": 48,
   "metadata": {},
   "outputs": [
    {
     "name": "stdout",
     "output_type": "stream",
     "text": [
      "SUN\n",
      "MON\n",
      "TUE\n",
      "WED\n",
      "THUR\n",
      "FRI\n",
      "SAT\n"
     ]
    }
   ],
   "source": [
    "ls = ['SUN', 'MON', 'TUE', 'WED', 'THUR','FRI', 'SAT']\n",
    "for i in range(7):\n",
    "    print(ls[i])"
   ]
  },
  {
   "cell_type": "code",
   "execution_count": 49,
   "metadata": {},
   "outputs": [
    {
     "name": "stdout",
     "output_type": "stream",
     "text": [
      "SUN : WED\n",
      "MON : THUR\n",
      "TUE : FRI\n"
     ]
    }
   ],
   "source": [
    "ls = ['SUN', 'MON', 'TUE']\n",
    "ls2 = ['WED', 'THUR','FRI', 'SAT']\n",
    "for i,j in zip(ls,ls2):\n",
    "    print(i,':',j)"
   ]
  },
  {
   "cell_type": "code",
   "execution_count": 55,
   "metadata": {},
   "outputs": [],
   "source": [
    "import pandas as pd\n",
    "import IPython.display as display\n",
    "dic = {'name' : ['sis'], 'class' : ['10']}\n"
   ]
  },
  {
   "cell_type": "code",
   "execution_count": null,
   "metadata": {},
   "outputs": [],
   "source": []
  }
 ],
 "metadata": {
  "kernelspec": {
   "display_name": "Python 3",
   "language": "python",
   "name": "python3"
  },
  "language_info": {
   "codemirror_mode": {
    "name": "ipython",
    "version": 3
   },
   "file_extension": ".py",
   "mimetype": "text/x-python",
   "name": "python",
   "nbconvert_exporter": "python",
   "pygments_lexer": "ipython3",
   "version": "3.7.1"
  }
 },
 "nbformat": 4,
 "nbformat_minor": 2
}
