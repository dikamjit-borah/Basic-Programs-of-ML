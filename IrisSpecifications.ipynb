{
 "cells": [
  {
   "cell_type": "code",
   "execution_count": 2,
   "metadata": {},
   "outputs": [],
   "source": [
    "import numpy as np\n",
    "import pandas as pd\n",
    "from sklearn import tree\n",
    "db = pd.read_csv('iris.csv')\n",
    "\n",
    "\n",
    "#array to table pandas.dataframe\n",
    "#table to array = np.table"
   ]
  },
  {
   "cell_type": "code",
   "execution_count": 5,
   "metadata": {},
   "outputs": [
    {
     "name": "stderr",
     "output_type": "stream",
     "text": [
      "D:\\Anaconda\\lib\\site-packages\\ipykernel_launcher.py:7: SettingWithCopyWarning: \n",
      "A value is trying to be set on a copy of a slice from a DataFrame\n",
      "\n",
      "See the caveats in the documentation: http://pandas.pydata.org/pandas-docs/stable/indexing.html#indexing-view-versus-copy\n",
      "  import sys\n",
      "D:\\Anaconda\\lib\\site-packages\\ipykernel_launcher.py:9: SettingWithCopyWarning: \n",
      "A value is trying to be set on a copy of a slice from a DataFrame\n",
      "\n",
      "See the caveats in the documentation: http://pandas.pydata.org/pandas-docs/stable/indexing.html#indexing-view-versus-copy\n",
      "  if __name__ == '__main__':\n",
      "D:\\Anaconda\\lib\\site-packages\\ipykernel_launcher.py:11: SettingWithCopyWarning: \n",
      "A value is trying to be set on a copy of a slice from a DataFrame\n",
      "\n",
      "See the caveats in the documentation: http://pandas.pydata.org/pandas-docs/stable/indexing.html#indexing-view-versus-copy\n",
      "  # This is added back by InteractiveShellApp.init_path()\n"
     ]
    },
    {
     "name": "stdout",
     "output_type": "stream",
     "text": [
      "     sepallength  sepalwidth  petallength  petalwidth    variety  varietycode\n",
      "0            5.1         3.5          1.4         0.2     Setosa            0\n",
      "1            4.9         3.0          1.4         0.2     Setosa            0\n",
      "2            4.7         3.2          1.3         0.2     Setosa            0\n",
      "3            4.6         3.1          1.5         0.2     Setosa            0\n",
      "4            5.0         3.6          1.4         0.2     Setosa            0\n",
      "5            5.4         3.9          1.7         0.4     Setosa            0\n",
      "6            4.6         3.4          1.4         0.3     Setosa            0\n",
      "7            5.0         3.4          1.5         0.2     Setosa            0\n",
      "8            4.4         2.9          1.4         0.2     Setosa            0\n",
      "9            4.9         3.1          1.5         0.1     Setosa            0\n",
      "10           5.4         3.7          1.5         0.2     Setosa            0\n",
      "11           4.8         3.4          1.6         0.2     Setosa            0\n",
      "12           4.8         3.0          1.4         0.1     Setosa            0\n",
      "13           4.3         3.0          1.1         0.1     Setosa            0\n",
      "14           5.8         4.0          1.2         0.2     Setosa            0\n",
      "15           5.7         4.4          1.5         0.4     Setosa            0\n",
      "16           5.4         3.9          1.3         0.4     Setosa            0\n",
      "17           5.1         3.5          1.4         0.3     Setosa            0\n",
      "18           5.7         3.8          1.7         0.3     Setosa            0\n",
      "19           5.1         3.8          1.5         0.3     Setosa            0\n",
      "20           5.4         3.4          1.7         0.2     Setosa            0\n",
      "21           5.1         3.7          1.5         0.4     Setosa            0\n",
      "22           4.6         3.6          1.0         0.2     Setosa            0\n",
      "23           5.1         3.3          1.7         0.5     Setosa            0\n",
      "24           4.8         3.4          1.9         0.2     Setosa            0\n",
      "25           5.0         3.0          1.6         0.2     Setosa            0\n",
      "26           5.0         3.4          1.6         0.4     Setosa            0\n",
      "27           5.2         3.5          1.5         0.2     Setosa            0\n",
      "28           5.2         3.4          1.4         0.2     Setosa            0\n",
      "29           4.7         3.2          1.6         0.2     Setosa            0\n",
      "..           ...         ...          ...         ...        ...          ...\n",
      "120          6.9         3.2          5.7         2.3  Virginica            2\n",
      "121          5.6         2.8          4.9         2.0  Virginica            2\n",
      "122          7.7         2.8          6.7         2.0  Virginica            2\n",
      "123          6.3         2.7          4.9         1.8  Virginica            2\n",
      "124          6.7         3.3          5.7         2.1  Virginica            2\n",
      "125          7.2         3.2          6.0         1.8  Virginica            2\n",
      "126          6.2         2.8          4.8         1.8  Virginica            2\n",
      "127          6.1         3.0          4.9         1.8  Virginica            2\n",
      "128          6.4         2.8          5.6         2.1  Virginica            2\n",
      "129          7.2         3.0          5.8         1.6  Virginica            2\n",
      "130          7.4         2.8          6.1         1.9  Virginica            2\n",
      "131          7.9         3.8          6.4         2.0  Virginica            2\n",
      "132          6.4         2.8          5.6         2.2  Virginica            2\n",
      "133          6.3         2.8          5.1         1.5  Virginica            2\n",
      "134          6.1         2.6          5.6         1.4  Virginica            2\n",
      "135          7.7         3.0          6.1         2.3  Virginica            2\n",
      "136          6.3         3.4          5.6         2.4  Virginica            2\n",
      "137          6.4         3.1          5.5         1.8  Virginica            2\n",
      "138          6.0         3.0          4.8         1.8  Virginica            2\n",
      "139          6.9         3.1          5.4         2.1  Virginica            2\n",
      "140          6.7         3.1          5.6         2.4  Virginica            2\n",
      "141          6.9         3.1          5.1         2.3  Virginica            2\n",
      "142          5.8         2.7          5.1         1.9  Virginica            2\n",
      "143          6.8         3.2          5.9         2.3  Virginica            2\n",
      "144          6.7         3.3          5.7         2.5  Virginica            2\n",
      "145          6.7         3.0          5.2         2.3  Virginica            2\n",
      "146          6.3         2.5          5.0         1.9  Virginica            2\n",
      "147          6.5         3.0          5.2         2.0  Virginica            2\n",
      "148          6.2         3.4          5.4         2.3  Virginica            2\n",
      "149          5.9         3.0          5.1         1.8  Virginica            2\n",
      "\n",
      "[150 rows x 6 columns]\n"
     ]
    }
   ],
   "source": [
    "featureindex = ['sepallength','sepalwidth','petallength', 'petalwidth','variety']\n",
    "x = db[featureindex]\n",
    "y=db.variety\n",
    "db['varietycode'] = 0\n",
    "for i in range(len(db)):\n",
    "    if db.variety[i] == 'Setosa':\n",
    "        db['varietycode'][i] = 0\n",
    "    elif db.variety[i] == 'Versicolor':\n",
    "        db['varietycode'][i] = 1\n",
    "    else:\n",
    "        db['varietycode'][i] = 2\n",
    "    \n",
    "print(db)"
   ]
  },
  {
   "cell_type": "code",
   "execution_count": 17,
   "metadata": {},
   "outputs": [
    {
     "ename": "ValueError",
     "evalue": "could not convert string to float: 'Virginica'",
     "output_type": "error",
     "traceback": [
      "\u001b[1;31m---------------------------------------------------------------------------\u001b[0m",
      "\u001b[1;31mValueError\u001b[0m                                Traceback (most recent call last)",
      "\u001b[1;32m<ipython-input-17-739addb8e4e8>\u001b[0m in \u001b[0;36m<module>\u001b[1;34m\u001b[0m\n\u001b[0;32m      3\u001b[0m \u001b[0mx_train\u001b[0m\u001b[1;33m,\u001b[0m \u001b[0mx_test\u001b[0m\u001b[1;33m,\u001b[0m \u001b[0my_train\u001b[0m\u001b[1;33m,\u001b[0m \u001b[0my_test\u001b[0m\u001b[1;33m=\u001b[0m\u001b[0mtrain_test_split\u001b[0m\u001b[1;33m(\u001b[0m\u001b[0mx\u001b[0m\u001b[1;33m,\u001b[0m\u001b[0my\u001b[0m\u001b[1;33m,\u001b[0m \u001b[0mtest_size\u001b[0m \u001b[1;33m=\u001b[0m \u001b[1;36m0.3\u001b[0m\u001b[1;33m)\u001b[0m \u001b[1;31m#x contain feature, y contain outcome\u001b[0m\u001b[1;33m\u001b[0m\u001b[1;33m\u001b[0m\u001b[0m\n\u001b[0;32m      4\u001b[0m \u001b[0mdcc\u001b[0m \u001b[1;33m=\u001b[0m \u001b[0mtree\u001b[0m\u001b[1;33m.\u001b[0m\u001b[0mDecisionTreeClassifier\u001b[0m\u001b[1;33m(\u001b[0m\u001b[1;33m)\u001b[0m\u001b[1;33m\u001b[0m\u001b[1;33m\u001b[0m\u001b[0m\n\u001b[1;32m----> 5\u001b[1;33m \u001b[0mdcc_train\u001b[0m \u001b[1;33m=\u001b[0m \u001b[0mdcc\u001b[0m\u001b[1;33m.\u001b[0m\u001b[0mfit\u001b[0m\u001b[1;33m(\u001b[0m\u001b[0mx_train\u001b[0m\u001b[1;33m,\u001b[0m \u001b[0my_train\u001b[0m\u001b[1;33m)\u001b[0m\u001b[1;33m\u001b[0m\u001b[1;33m\u001b[0m\u001b[0m\n\u001b[0m\u001b[0;32m      6\u001b[0m \u001b[1;33m\u001b[0m\u001b[0m\n\u001b[0;32m      7\u001b[0m \u001b[1;33m\u001b[0m\u001b[0m\n",
      "\u001b[1;32mD:\\Anaconda\\lib\\site-packages\\sklearn\\tree\\tree.py\u001b[0m in \u001b[0;36mfit\u001b[1;34m(self, X, y, sample_weight, check_input, X_idx_sorted)\u001b[0m\n\u001b[0;32m    799\u001b[0m             \u001b[0msample_weight\u001b[0m\u001b[1;33m=\u001b[0m\u001b[0msample_weight\u001b[0m\u001b[1;33m,\u001b[0m\u001b[1;33m\u001b[0m\u001b[1;33m\u001b[0m\u001b[0m\n\u001b[0;32m    800\u001b[0m             \u001b[0mcheck_input\u001b[0m\u001b[1;33m=\u001b[0m\u001b[0mcheck_input\u001b[0m\u001b[1;33m,\u001b[0m\u001b[1;33m\u001b[0m\u001b[1;33m\u001b[0m\u001b[0m\n\u001b[1;32m--> 801\u001b[1;33m             X_idx_sorted=X_idx_sorted)\n\u001b[0m\u001b[0;32m    802\u001b[0m         \u001b[1;32mreturn\u001b[0m \u001b[0mself\u001b[0m\u001b[1;33m\u001b[0m\u001b[1;33m\u001b[0m\u001b[0m\n\u001b[0;32m    803\u001b[0m \u001b[1;33m\u001b[0m\u001b[0m\n",
      "\u001b[1;32mD:\\Anaconda\\lib\\site-packages\\sklearn\\tree\\tree.py\u001b[0m in \u001b[0;36mfit\u001b[1;34m(self, X, y, sample_weight, check_input, X_idx_sorted)\u001b[0m\n\u001b[0;32m    114\u001b[0m         \u001b[0mrandom_state\u001b[0m \u001b[1;33m=\u001b[0m \u001b[0mcheck_random_state\u001b[0m\u001b[1;33m(\u001b[0m\u001b[0mself\u001b[0m\u001b[1;33m.\u001b[0m\u001b[0mrandom_state\u001b[0m\u001b[1;33m)\u001b[0m\u001b[1;33m\u001b[0m\u001b[1;33m\u001b[0m\u001b[0m\n\u001b[0;32m    115\u001b[0m         \u001b[1;32mif\u001b[0m \u001b[0mcheck_input\u001b[0m\u001b[1;33m:\u001b[0m\u001b[1;33m\u001b[0m\u001b[1;33m\u001b[0m\u001b[0m\n\u001b[1;32m--> 116\u001b[1;33m             \u001b[0mX\u001b[0m \u001b[1;33m=\u001b[0m \u001b[0mcheck_array\u001b[0m\u001b[1;33m(\u001b[0m\u001b[0mX\u001b[0m\u001b[1;33m,\u001b[0m \u001b[0mdtype\u001b[0m\u001b[1;33m=\u001b[0m\u001b[0mDTYPE\u001b[0m\u001b[1;33m,\u001b[0m \u001b[0maccept_sparse\u001b[0m\u001b[1;33m=\u001b[0m\u001b[1;34m\"csc\"\u001b[0m\u001b[1;33m)\u001b[0m\u001b[1;33m\u001b[0m\u001b[1;33m\u001b[0m\u001b[0m\n\u001b[0m\u001b[0;32m    117\u001b[0m             \u001b[0my\u001b[0m \u001b[1;33m=\u001b[0m \u001b[0mcheck_array\u001b[0m\u001b[1;33m(\u001b[0m\u001b[0my\u001b[0m\u001b[1;33m,\u001b[0m \u001b[0mensure_2d\u001b[0m\u001b[1;33m=\u001b[0m\u001b[1;32mFalse\u001b[0m\u001b[1;33m,\u001b[0m \u001b[0mdtype\u001b[0m\u001b[1;33m=\u001b[0m\u001b[1;32mNone\u001b[0m\u001b[1;33m)\u001b[0m\u001b[1;33m\u001b[0m\u001b[1;33m\u001b[0m\u001b[0m\n\u001b[0;32m    118\u001b[0m             \u001b[1;32mif\u001b[0m \u001b[0missparse\u001b[0m\u001b[1;33m(\u001b[0m\u001b[0mX\u001b[0m\u001b[1;33m)\u001b[0m\u001b[1;33m:\u001b[0m\u001b[1;33m\u001b[0m\u001b[1;33m\u001b[0m\u001b[0m\n",
      "\u001b[1;32mD:\\Anaconda\\lib\\site-packages\\sklearn\\utils\\validation.py\u001b[0m in \u001b[0;36mcheck_array\u001b[1;34m(array, accept_sparse, accept_large_sparse, dtype, order, copy, force_all_finite, ensure_2d, allow_nd, ensure_min_samples, ensure_min_features, warn_on_dtype, estimator)\u001b[0m\n\u001b[0;32m    525\u001b[0m             \u001b[1;32mtry\u001b[0m\u001b[1;33m:\u001b[0m\u001b[1;33m\u001b[0m\u001b[1;33m\u001b[0m\u001b[0m\n\u001b[0;32m    526\u001b[0m                 \u001b[0mwarnings\u001b[0m\u001b[1;33m.\u001b[0m\u001b[0msimplefilter\u001b[0m\u001b[1;33m(\u001b[0m\u001b[1;34m'error'\u001b[0m\u001b[1;33m,\u001b[0m \u001b[0mComplexWarning\u001b[0m\u001b[1;33m)\u001b[0m\u001b[1;33m\u001b[0m\u001b[1;33m\u001b[0m\u001b[0m\n\u001b[1;32m--> 527\u001b[1;33m                 \u001b[0marray\u001b[0m \u001b[1;33m=\u001b[0m \u001b[0mnp\u001b[0m\u001b[1;33m.\u001b[0m\u001b[0masarray\u001b[0m\u001b[1;33m(\u001b[0m\u001b[0marray\u001b[0m\u001b[1;33m,\u001b[0m \u001b[0mdtype\u001b[0m\u001b[1;33m=\u001b[0m\u001b[0mdtype\u001b[0m\u001b[1;33m,\u001b[0m \u001b[0morder\u001b[0m\u001b[1;33m=\u001b[0m\u001b[0morder\u001b[0m\u001b[1;33m)\u001b[0m\u001b[1;33m\u001b[0m\u001b[1;33m\u001b[0m\u001b[0m\n\u001b[0m\u001b[0;32m    528\u001b[0m             \u001b[1;32mexcept\u001b[0m \u001b[0mComplexWarning\u001b[0m\u001b[1;33m:\u001b[0m\u001b[1;33m\u001b[0m\u001b[1;33m\u001b[0m\u001b[0m\n\u001b[0;32m    529\u001b[0m                 raise ValueError(\"Complex data not supported\\n\"\n",
      "\u001b[1;32mD:\\Anaconda\\lib\\site-packages\\numpy\\core\\numeric.py\u001b[0m in \u001b[0;36masarray\u001b[1;34m(a, dtype, order)\u001b[0m\n\u001b[0;32m    499\u001b[0m \u001b[1;33m\u001b[0m\u001b[0m\n\u001b[0;32m    500\u001b[0m     \"\"\"\n\u001b[1;32m--> 501\u001b[1;33m     \u001b[1;32mreturn\u001b[0m \u001b[0marray\u001b[0m\u001b[1;33m(\u001b[0m\u001b[0ma\u001b[0m\u001b[1;33m,\u001b[0m \u001b[0mdtype\u001b[0m\u001b[1;33m,\u001b[0m \u001b[0mcopy\u001b[0m\u001b[1;33m=\u001b[0m\u001b[1;32mFalse\u001b[0m\u001b[1;33m,\u001b[0m \u001b[0morder\u001b[0m\u001b[1;33m=\u001b[0m\u001b[0morder\u001b[0m\u001b[1;33m)\u001b[0m\u001b[1;33m\u001b[0m\u001b[1;33m\u001b[0m\u001b[0m\n\u001b[0m\u001b[0;32m    502\u001b[0m \u001b[1;33m\u001b[0m\u001b[0m\n\u001b[0;32m    503\u001b[0m \u001b[1;33m\u001b[0m\u001b[0m\n",
      "\u001b[1;31mValueError\u001b[0m: could not convert string to float: 'Virginica'"
     ]
    }
   ],
   "source": [
    "from sklearn.model_selection import train_test_split\n",
    "\n",
    "x_train, x_test, y_train, y_test=train_test_split(x,y, test_size = 0.3) #x contain feature, y contain outcome\n",
    "dcc = tree.DecisionTreeClassifier()\n",
    "dcc_train = dcc.fit(x_train, y_train)\n",
    "\n",
    "\n",
    "mycheck={'sepallength':[5.5],\n",
    "        'sepalwidth':[3.5],\n",
    "        'petallength':[1.3],\n",
    "        'petalwidth':[0.2]\n",
    "        }\n",
    "tdpd=pd.DataFrame(mycheck)\n",
    "dcc_pred = dcc_train.predict(tdpd)\n"
   ]
  },
  {
   "cell_type": "code",
   "execution_count": null,
   "metadata": {},
   "outputs": [],
   "source": []
  }
 ],
 "metadata": {
  "kernelspec": {
   "display_name": "Python 3",
   "language": "python",
   "name": "python3"
  },
  "language_info": {
   "codemirror_mode": {
    "name": "ipython",
    "version": 3
   },
   "file_extension": ".py",
   "mimetype": "text/x-python",
   "name": "python",
   "nbconvert_exporter": "python",
   "pygments_lexer": "ipython3",
   "version": "3.7.1"
  }
 },
 "nbformat": 4,
 "nbformat_minor": 2
}
